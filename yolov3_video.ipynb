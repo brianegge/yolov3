{
  "nbformat": 4,
  "nbformat_minor": 0,
  "metadata": {
    "colab": {
      "name": "yolov3 video.ipynb",
      "provenance": [],
      "private_outputs": true,
      "collapsed_sections": [],
      "toc_visible": true,
      "machine_shape": "hm",
      "include_colab_link": true
    },
    "kernelspec": {
      "name": "python3",
      "display_name": "Python 3"
    },
    "accelerator": "GPU"
  },
  "cells": [
    {
      "cell_type": "markdown",
      "metadata": {
        "id": "view-in-github",
        "colab_type": "text"
      },
      "source": [
        "<a href=\"https://colab.research.google.com/github/brianegge/yolov3/blob/master/yolov3_video.ipynb\" target=\"_parent\"><img src=\"https://colab.research.google.com/assets/colab-badge.svg\" alt=\"Open In Colab\"/></a>"
      ]
    },
    {
      "cell_type": "markdown",
      "metadata": {
        "id": "3WTahs_ngxRE",
        "colab_type": "text"
      },
      "source": [
        "# Prepare YoloV3"
      ]
    },
    {
      "cell_type": "code",
      "metadata": {
        "id": "9PtfNmjCNmNY",
        "colab_type": "code",
        "colab": {}
      },
      "source": [
        "%cd /content/\n",
        "!mkdir -p input_video\n",
        "!mkdir -p output_compressed\n",
        "!pip install filterpy numba scikit-image lap\n",
        "!git clone https://github.com/brianegge/yolov3\n",
        "%cd yolov3\n",
        "!git submodule add https://github.com/brianegge/sort"
      ],
      "execution_count": 0,
      "outputs": []
    },
    {
      "cell_type": "code",
      "metadata": {
        "id": "DAd81AHqAyxD",
        "colab_type": "code",
        "colab": {}
      },
      "source": [
        "%cd /content/yolov3\n",
        "!git pull\n",
        "import time\n",
        "import glob\n",
        "import torch\n",
        "import os\n",
        "\n",
        "import argparse\n",
        "from sys import platform\n",
        "\n",
        "from models import *\n",
        "from utils.datasets import *\n",
        "from utils.utils import *\n",
        "from sort.sort import *\n",
        "\n",
        "from IPython.display import HTML\n",
        "from base64 import b64encode\n",
        "from pprint import pprint\n",
        "\n",
        "parser = argparse.ArgumentParser()\n",
        "parser.add_argument('--cfg', type=str, default='cfg/yolov3-spp.cfg', help='*.cfg path')\n",
        "parser.add_argument('--names', type=str, default='data/coco.names', help='*.names path')\n",
        "parser.add_argument('--weights', type=str, default='weights/yolov3-spp-ultralytics.pt', help='weights path')\n",
        "\n",
        "parser.add_argument('--img-size', type=int, default=160, help='inference size (pixels)')\n",
        "parser.add_argument('--conf-thres', type=float, default=0.3, help='object confidence threshold')\n",
        "parser.add_argument('--iou-thres', type=float, default=0.6, help='IOU threshold for NMS')\n",
        "\n",
        "\n",
        "parser.add_argument('--device', default='', help='device id (i.e. 0 or 0,1) or cpu')\n",
        "\n",
        "\n",
        "parser.add_argument('--classes', nargs='+', type=int, help='filter by class')\n",
        "parser.add_argument('--agnostic-nms', action='store_true', help='class-agnostic NMS')\n",
        "opt = parser.parse_args(args = [])\n",
        "\n",
        "torch.no_grad()\n",
        "\n",
        "weights = opt.weights\n",
        "img_size =  opt.img_size\n",
        "\n",
        "# Initialize\n",
        "device = torch_utils.select_device(device='cpu' if ONNX_EXPORT else opt.device)\n",
        "\n",
        "# Initialize model\n",
        "model = Darknet(opt.cfg, img_size)\n",
        "\n",
        "# Load weights\n",
        "attempt_download(weights)\n",
        "if weights.endswith('.pt'):  # pytorch format\n",
        "    model.load_state_dict(torch.load(weights, map_location=device)['model'])\n",
        "else:  # darknet format\n",
        "    load_darknet_weights(model, weights)\n",
        "\n",
        "model.to(device).eval();\n",
        "\n",
        "# Get names and colors\n",
        "names = load_classes(opt.names)\n",
        "colors = [[random.randint(0, 255) for _ in range(3)] for _ in range(len(names))]\n"
      ],
      "execution_count": 0,
      "outputs": []
    },
    {
      "cell_type": "code",
      "metadata": {
        "id": "kojkXHYAL1Kf",
        "colab_type": "code",
        "colab": {}
      },
      "source": [
        "def predict_one_video(path_video, output_dir = 'output'): \n",
        "\n",
        "    mot_tracker = Sort(max_age=3, min_hits=2)\n",
        "    if not os.path.exists(output_dir):\n",
        "        os.makedirs(output_dir)\n",
        "\n",
        "    cap  = cv2.VideoCapture(path_video)\n",
        "    _, img0 = cap.read()\n",
        "    # skip 40 frames\n",
        "    for x in range(40):\n",
        "      _, img0 = cap.read()\n",
        "\n",
        "    save_path = os.path.join(output_dir, os.path.split(path_video)[-1]) \n",
        "    if os.path.exists(save_path):\n",
        "      os.remove(save_path)\n",
        "    fps = cap.get(cv2.CAP_PROP_FPS)\n",
        "    w = int(cap.get(cv2.CAP_PROP_FRAME_WIDTH))\n",
        "    h = int(cap.get(cv2.CAP_PROP_FRAME_HEIGHT))\n",
        "    w_out = 1080\n",
        "    h_out = 540\n",
        "    \n",
        "    vid_writer = cv2.VideoWriter(save_path, cv2.VideoWriter_fourcc(*'MP4V'), fps, (w_out, h_out))\n",
        "    speeders={}\n",
        "    img_count = 0\n",
        "    while img0 is not None: \n",
        "        img_count += 1\n",
        "        # crop\n",
        "        img_cropped = img0[180:180 + h_out, 1920:1920 + w_out]\n",
        "        # Padded resize\n",
        "        img = letterbox(img_cropped, new_shape=opt.img_size)[0]\n",
        "\n",
        "        # Convert\n",
        "        img = img[:, :, ::-1].transpose(2, 0, 1)  # BGR to RGB, to 3xHxW\n",
        "        img = np.ascontiguousarray(img)\n",
        "\n",
        "        img = torch.from_numpy(img).to(device)\n",
        "        img = img.float()  # uint8 to fp16/32\n",
        "        img /= 255.0  # 0 - 255 to 0.0 - 1.0\n",
        "        if img.ndimension() == 3:\n",
        "            img = img.unsqueeze(0)\n",
        "\n",
        "        pred = model(img)[0]\n",
        "        # Apply NMS\n",
        "        pred = non_max_suppression(pred, opt.conf_thres, opt.iou_thres, classes=opt.classes, agnostic=opt.agnostic_nms)\n",
        "        # Process detections\n",
        "        for i, det in enumerate(pred):  # detections per image\n",
        "            ##### Ganti im0s menjadi img0\n",
        "\n",
        "            # update SORT\n",
        "            if det is not None:\n",
        "              # print('Frame %i, index %i, detections %i' % (img_count, i, len(det)) )\n",
        "              track_bbs_ids = torch.from_numpy(mot_tracker.update(det.cpu().detach().numpy()))\n",
        "              # print('Frame %i, found trackers %i of %i' % (img_count, len(track_bbs_ids), len(mot_tracker.trackers)) )\n",
        "\n",
        "              if track_bbs_ids is not None and len(track_bbs_ids):\n",
        "                  # Rescale boxes from img_size to im0 size\n",
        "                  track_bbs_ids[:, :4] = scale_coords(img.shape[2:], track_bbs_ids[:, :4], img_cropped.shape).round()\n",
        "\n",
        "                  # Write results\n",
        "                  count = 0\n",
        "                  for *xyxy, track_id, cls in track_bbs_ids:\n",
        "                      name = names[int(cls)]\n",
        "                      color = colors[count]\n",
        "                      trk = next(i for i in mot_tracker.trackers if i.id == track_id)\n",
        "                      if not name in ['car','bicycle','motorcycle','truck','bus','person']:\n",
        "                        continue\n",
        "                      real_speed = img_cropped.shape[0] / img.shape[2:][0] * trk.speed / 1.532 # 25 mph\n",
        "                      \n",
        "                      print(\"Frame %i, %s %i, speed %.2fmph, age %i\" % \n",
        "                            (img_count, name, track_id, real_speed, trk.age)\n",
        "                      )\n",
        "                      label = '%s %i %.1f mph' % (name, track_id, real_speed)\n",
        "                      plot_one_box(xyxy, img_cropped, label=label, color=color)\n",
        "                      key = '%s-%i' % (name,track_id)\n",
        "                      if not key in speeders:\n",
        "                        speeders[key] = [trk,trk.speed,img_cropped]\n",
        "                      elif speeders[key][1] < trk.speed:\n",
        "                        speeders[key] = [trk,trk.speed,img_cropped]\n",
        "            else:\n",
        "              # print('Frame %i, index %i, detections None' % (img_count, i) )\n",
        "              mot_tracker.update()\n",
        "\n",
        "        vid_writer.write(img_cropped)\n",
        "        # cv.imwrite(\"%s/output-%i.jpg\" % (output_dir, count) , img)\n",
        "        _, img0 = cap.read()\n",
        "\n",
        "    vid_writer.release()\n",
        "    for key in speeders:\n",
        "      trk,speed,img_cropped = speeders[key]\n",
        "      o = os.path.join(output_dir, \"%s.jpg\" % key) \n",
        "      if not cv2.imwrite(o, img_cropped):\n",
        "        raise Exception(\"Could not write image %s\" % o)\n",
        "\n",
        "    return save_path\n"
      ],
      "execution_count": 0,
      "outputs": []
    },
    {
      "cell_type": "markdown",
      "metadata": {
        "id": "NekDq0GwhmE4",
        "colab_type": "text"
      },
      "source": [
        "# Process Video"
      ]
    },
    {
      "cell_type": "code",
      "metadata": {
        "id": "47aetUx1Mm4I",
        "colab_type": "code",
        "colab": {}
      },
      "source": [
        "%cd /content/\n",
        "input_file = os.listdir(\"input_video\")[0]\n",
        "path_video = os.path.join(\"input_video\",input_file)\n",
        "print(\"Processing %s\" % path_video)\n",
        "for filename in os.listdir('output'):\n",
        "  f = os.path.join('output', filename)\n",
        "  if os.path.isfile(f):\n",
        "    os.unlink(f)\n",
        "save_path = predict_one_video(path_video)\n",
        "\n",
        "# compress video\n",
        "compressed_path = os.path.join(\"output_compressed\", os.path.split(save_path)[-1])\n",
        "print(\"Compressing %s to %s\" % (save_path,compressed_path))\n",
        "if os.path.exists(compressed_path):\n",
        "  os.remove(compressed_path)\n",
        "os.system(f\"ffmpeg -i {save_path} -vcodec libx264 {compressed_path}\")\n",
        "\n",
        "# Show video\n",
        "mp4 = open(compressed_path,'rb').read()\n",
        "data_url = \"data:video/mp4;base64,\" + b64encode(mp4).decode()\n",
        "HTML(\"\"\"\n",
        "<video width=400 controls>\n",
        "      <source src=\"%s\" type=\"video/mp4\">\n",
        "</video>\n",
        "\"\"\" % data_url)"
      ],
      "execution_count": 0,
      "outputs": []
    },
    {
      "cell_type": "markdown",
      "metadata": {
        "id": "tLtgpkxyQUQ0",
        "colab_type": "text"
      },
      "source": [
        "To Process your own video, upload your video inside `input_video` folder "
      ]
    },
    {
      "cell_type": "markdown",
      "metadata": {
        "id": "w5SbLvzLU3i_",
        "colab_type": "text"
      },
      "source": [
        "# Git clone to get short videos"
      ]
    },
    {
      "cell_type": "code",
      "metadata": {
        "id": "1LEWy4FDUtXp",
        "colab_type": "code",
        "colab": {}
      },
      "source": [
        "!git clone https://github.com/vindruid/yolov3-in-colab.git\n",
        "!cp -r \"yolov3-in-colab\"/input_video/* ./input_video/"
      ],
      "execution_count": 0,
      "outputs": []
    }
  ]
}