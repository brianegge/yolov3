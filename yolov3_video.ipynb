{
 "cells": [
  {
   "cell_type": "markdown",
   "metadata": {
    "colab_type": "text",
    "id": "view-in-github"
   },
   "source": [
    "<a href=\"https://colab.research.google.com/github/brianegge/yolov3/blob/master/yolov3_video.ipynb\" target=\"_parent\"><img src=\"https://colab.research.google.com/assets/colab-badge.svg\" alt=\"Open In Colab\"/></a>"
   ]
  },
  {
   "cell_type": "markdown",
   "metadata": {
    "colab_type": "text",
    "id": "3WTahs_ngxRE"
   },
   "source": [
    "# Prepare YoloV3"
   ]
  },
  {
   "cell_type": "code",
   "execution_count": null,
   "metadata": {
    "colab": {},
    "colab_type": "code",
    "id": "9PtfNmjCNmNY"
   },
   "outputs": [],
   "source": [
    "%cd /content/\n",
    "!mkdir -p input_video\n",
    "!mkdir -p output_compressed\n",
    "!pip install filterpy numba scikit-image lap\n",
    "!git clone https://github.com/brianegge/yolov3\n",
    "%cd yolov3\n",
    "!git submodule add https://github.com/brianegge/sort"
   ]
  },
  {
   "cell_type": "code",
   "execution_count": 1,
   "metadata": {
    "colab": {},
    "colab_type": "code",
    "id": "DAd81AHqAyxD"
   },
   "outputs": [
    {
     "name": "stdout",
     "output_type": "stream",
     "text": [
      "Already up to date.\n"
     ]
    },
    {
     "ename": "RuntimeError",
     "evalue": "Failed to register operator torchvision::_new_empty_tensor_op.                            The symbolic name must match the format Domain::Name,                            and sould start with a letter and contain only                            alphanumerical characters",
     "output_type": "error",
     "traceback": [
      "\u001b[0;31m---------------------------------------------------------------------------\u001b[0m",
      "\u001b[0;31mRuntimeError\u001b[0m                              Traceback (most recent call last)",
      "\u001b[0;32m<ipython-input-1-e59269deab09>\u001b[0m in \u001b[0;36m<module>\u001b[0;34m\u001b[0m\n\u001b[1;32m      9\u001b[0m \u001b[0;32mfrom\u001b[0m \u001b[0msys\u001b[0m \u001b[0;32mimport\u001b[0m \u001b[0mplatform\u001b[0m\u001b[0;34m\u001b[0m\u001b[0;34m\u001b[0m\u001b[0m\n\u001b[1;32m     10\u001b[0m \u001b[0;34m\u001b[0m\u001b[0m\n\u001b[0;32m---> 11\u001b[0;31m \u001b[0;32mfrom\u001b[0m \u001b[0mmodels\u001b[0m \u001b[0;32mimport\u001b[0m \u001b[0;34m*\u001b[0m\u001b[0;34m\u001b[0m\u001b[0;34m\u001b[0m\u001b[0m\n\u001b[0m\u001b[1;32m     12\u001b[0m \u001b[0;32mfrom\u001b[0m \u001b[0mutils\u001b[0m\u001b[0;34m.\u001b[0m\u001b[0mdatasets\u001b[0m \u001b[0;32mimport\u001b[0m \u001b[0;34m*\u001b[0m\u001b[0;34m\u001b[0m\u001b[0;34m\u001b[0m\u001b[0m\n\u001b[1;32m     13\u001b[0m \u001b[0;32mfrom\u001b[0m \u001b[0mutils\u001b[0m\u001b[0;34m.\u001b[0m\u001b[0mutils\u001b[0m \u001b[0;32mimport\u001b[0m \u001b[0;34m*\u001b[0m\u001b[0;34m\u001b[0m\u001b[0;34m\u001b[0m\u001b[0m\n",
      "\u001b[0;32m~/detector/models.py\u001b[0m in \u001b[0;36m<module>\u001b[0;34m\u001b[0m\n\u001b[1;32m      1\u001b[0m \u001b[0;32mfrom\u001b[0m \u001b[0mutils\u001b[0m\u001b[0;34m.\u001b[0m\u001b[0mgoogle_utils\u001b[0m \u001b[0;32mimport\u001b[0m \u001b[0;34m*\u001b[0m\u001b[0;34m\u001b[0m\u001b[0;34m\u001b[0m\u001b[0m\n\u001b[0;32m----> 2\u001b[0;31m \u001b[0;32mfrom\u001b[0m \u001b[0mutils\u001b[0m\u001b[0;34m.\u001b[0m\u001b[0mlayers\u001b[0m \u001b[0;32mimport\u001b[0m \u001b[0;34m*\u001b[0m\u001b[0;34m\u001b[0m\u001b[0;34m\u001b[0m\u001b[0m\n\u001b[0m\u001b[1;32m      3\u001b[0m \u001b[0;32mfrom\u001b[0m \u001b[0mutils\u001b[0m\u001b[0;34m.\u001b[0m\u001b[0mparse_config\u001b[0m \u001b[0;32mimport\u001b[0m \u001b[0;34m*\u001b[0m\u001b[0;34m\u001b[0m\u001b[0;34m\u001b[0m\u001b[0m\n\u001b[1;32m      4\u001b[0m \u001b[0;34m\u001b[0m\u001b[0m\n\u001b[1;32m      5\u001b[0m \u001b[0mONNX_EXPORT\u001b[0m \u001b[0;34m=\u001b[0m \u001b[0;32mFalse\u001b[0m\u001b[0;34m\u001b[0m\u001b[0;34m\u001b[0m\u001b[0m\n",
      "\u001b[0;32m~/detector/utils/layers.py\u001b[0m in \u001b[0;36m<module>\u001b[0;34m\u001b[0m\n\u001b[1;32m      1\u001b[0m \u001b[0;32mimport\u001b[0m \u001b[0mtorch\u001b[0m\u001b[0;34m.\u001b[0m\u001b[0mnn\u001b[0m\u001b[0;34m.\u001b[0m\u001b[0mfunctional\u001b[0m \u001b[0;32mas\u001b[0m \u001b[0mF\u001b[0m\u001b[0;34m\u001b[0m\u001b[0;34m\u001b[0m\u001b[0m\n\u001b[1;32m      2\u001b[0m \u001b[0;34m\u001b[0m\u001b[0m\n\u001b[0;32m----> 3\u001b[0;31m \u001b[0;32mfrom\u001b[0m \u001b[0mutils\u001b[0m\u001b[0;34m.\u001b[0m\u001b[0mutils\u001b[0m \u001b[0;32mimport\u001b[0m \u001b[0;34m*\u001b[0m\u001b[0;34m\u001b[0m\u001b[0;34m\u001b[0m\u001b[0m\n\u001b[0m\u001b[1;32m      4\u001b[0m \u001b[0;34m\u001b[0m\u001b[0m\n\u001b[1;32m      5\u001b[0m \u001b[0;34m\u001b[0m\u001b[0m\n",
      "\u001b[0;32m~/detector/utils/utils.py\u001b[0m in \u001b[0;36m<module>\u001b[0;34m\u001b[0m\n\u001b[1;32m     14\u001b[0m \u001b[0;32mimport\u001b[0m \u001b[0mtorch\u001b[0m\u001b[0;34m\u001b[0m\u001b[0;34m\u001b[0m\u001b[0m\n\u001b[1;32m     15\u001b[0m \u001b[0;32mimport\u001b[0m \u001b[0mtorch\u001b[0m\u001b[0;34m.\u001b[0m\u001b[0mnn\u001b[0m \u001b[0;32mas\u001b[0m \u001b[0mnn\u001b[0m\u001b[0;34m\u001b[0m\u001b[0;34m\u001b[0m\u001b[0m\n\u001b[0;32m---> 16\u001b[0;31m \u001b[0;32mimport\u001b[0m \u001b[0mtorchvision\u001b[0m\u001b[0;34m\u001b[0m\u001b[0;34m\u001b[0m\u001b[0m\n\u001b[0m\u001b[1;32m     17\u001b[0m \u001b[0;32mfrom\u001b[0m \u001b[0mtqdm\u001b[0m \u001b[0;32mimport\u001b[0m \u001b[0mtqdm\u001b[0m\u001b[0;34m\u001b[0m\u001b[0;34m\u001b[0m\u001b[0m\n\u001b[1;32m     18\u001b[0m \u001b[0;34m\u001b[0m\u001b[0m\n",
      "\u001b[0;32m~/python-envs/env/lib/python3.6/site-packages/vision/torchvision/__init__.py\u001b[0m in \u001b[0;36m<module>\u001b[0;34m\u001b[0m\n\u001b[1;32m      1\u001b[0m \u001b[0;32mimport\u001b[0m \u001b[0mwarnings\u001b[0m\u001b[0;34m\u001b[0m\u001b[0;34m\u001b[0m\u001b[0m\n\u001b[1;32m      2\u001b[0m \u001b[0;34m\u001b[0m\u001b[0m\n\u001b[0;32m----> 3\u001b[0;31m \u001b[0;32mfrom\u001b[0m \u001b[0mtorchvision\u001b[0m \u001b[0;32mimport\u001b[0m \u001b[0mmodels\u001b[0m\u001b[0;34m\u001b[0m\u001b[0;34m\u001b[0m\u001b[0m\n\u001b[0m\u001b[1;32m      4\u001b[0m \u001b[0;32mfrom\u001b[0m \u001b[0mtorchvision\u001b[0m \u001b[0;32mimport\u001b[0m \u001b[0mdatasets\u001b[0m\u001b[0;34m\u001b[0m\u001b[0;34m\u001b[0m\u001b[0m\n\u001b[1;32m      5\u001b[0m \u001b[0;32mfrom\u001b[0m \u001b[0mtorchvision\u001b[0m \u001b[0;32mimport\u001b[0m \u001b[0mops\u001b[0m\u001b[0;34m\u001b[0m\u001b[0;34m\u001b[0m\u001b[0m\n",
      "\u001b[0;32m~/python-envs/env/lib/python3.6/site-packages/vision/torchvision/models/__init__.py\u001b[0m in \u001b[0;36m<module>\u001b[0;34m\u001b[0m\n\u001b[1;32m     10\u001b[0m \u001b[0;32mfrom\u001b[0m \u001b[0;34m.\u001b[0m\u001b[0mshufflenetv2\u001b[0m \u001b[0;32mimport\u001b[0m \u001b[0;34m*\u001b[0m\u001b[0;34m\u001b[0m\u001b[0;34m\u001b[0m\u001b[0m\n\u001b[1;32m     11\u001b[0m \u001b[0;32mfrom\u001b[0m \u001b[0;34m.\u001b[0m \u001b[0;32mimport\u001b[0m \u001b[0msegmentation\u001b[0m\u001b[0;34m\u001b[0m\u001b[0;34m\u001b[0m\u001b[0m\n\u001b[0;32m---> 12\u001b[0;31m \u001b[0;32mfrom\u001b[0m \u001b[0;34m.\u001b[0m \u001b[0;32mimport\u001b[0m \u001b[0mdetection\u001b[0m\u001b[0;34m\u001b[0m\u001b[0;34m\u001b[0m\u001b[0m\n\u001b[0m\u001b[1;32m     13\u001b[0m \u001b[0;32mfrom\u001b[0m \u001b[0;34m.\u001b[0m \u001b[0;32mimport\u001b[0m \u001b[0mvideo\u001b[0m\u001b[0;34m\u001b[0m\u001b[0;34m\u001b[0m\u001b[0m\n\u001b[1;32m     14\u001b[0m \u001b[0;32mfrom\u001b[0m \u001b[0;34m.\u001b[0m \u001b[0;32mimport\u001b[0m \u001b[0mquantization\u001b[0m\u001b[0;34m\u001b[0m\u001b[0;34m\u001b[0m\u001b[0m\n",
      "\u001b[0;32m~/python-envs/env/lib/python3.6/site-packages/vision/torchvision/models/detection/__init__.py\u001b[0m in \u001b[0;36m<module>\u001b[0;34m\u001b[0m\n\u001b[0;32m----> 1\u001b[0;31m \u001b[0;32mfrom\u001b[0m \u001b[0;34m.\u001b[0m\u001b[0mfaster_rcnn\u001b[0m \u001b[0;32mimport\u001b[0m \u001b[0;34m*\u001b[0m\u001b[0;34m\u001b[0m\u001b[0;34m\u001b[0m\u001b[0m\n\u001b[0m\u001b[1;32m      2\u001b[0m \u001b[0;32mfrom\u001b[0m \u001b[0;34m.\u001b[0m\u001b[0mmask_rcnn\u001b[0m \u001b[0;32mimport\u001b[0m \u001b[0;34m*\u001b[0m\u001b[0;34m\u001b[0m\u001b[0;34m\u001b[0m\u001b[0m\n\u001b[1;32m      3\u001b[0m \u001b[0;32mfrom\u001b[0m \u001b[0;34m.\u001b[0m\u001b[0mkeypoint_rcnn\u001b[0m \u001b[0;32mimport\u001b[0m \u001b[0;34m*\u001b[0m\u001b[0;34m\u001b[0m\u001b[0;34m\u001b[0m\u001b[0m\n",
      "\u001b[0;32m~/python-envs/env/lib/python3.6/site-packages/vision/torchvision/models/detection/faster_rcnn.py\u001b[0m in \u001b[0;36m<module>\u001b[0;34m\u001b[0m\n\u001b[1;32m      5\u001b[0m \u001b[0;32mimport\u001b[0m \u001b[0mtorch\u001b[0m\u001b[0;34m.\u001b[0m\u001b[0mnn\u001b[0m\u001b[0;34m.\u001b[0m\u001b[0mfunctional\u001b[0m \u001b[0;32mas\u001b[0m \u001b[0mF\u001b[0m\u001b[0;34m\u001b[0m\u001b[0;34m\u001b[0m\u001b[0m\n\u001b[1;32m      6\u001b[0m \u001b[0;34m\u001b[0m\u001b[0m\n\u001b[0;32m----> 7\u001b[0;31m \u001b[0;32mfrom\u001b[0m \u001b[0mtorchvision\u001b[0m\u001b[0;34m.\u001b[0m\u001b[0mops\u001b[0m \u001b[0;32mimport\u001b[0m \u001b[0mmisc\u001b[0m \u001b[0;32mas\u001b[0m \u001b[0mmisc_nn_ops\u001b[0m\u001b[0;34m\u001b[0m\u001b[0;34m\u001b[0m\u001b[0m\n\u001b[0m\u001b[1;32m      8\u001b[0m \u001b[0;32mfrom\u001b[0m \u001b[0mtorchvision\u001b[0m\u001b[0;34m.\u001b[0m\u001b[0mops\u001b[0m \u001b[0;32mimport\u001b[0m \u001b[0mMultiScaleRoIAlign\u001b[0m\u001b[0;34m\u001b[0m\u001b[0;34m\u001b[0m\u001b[0m\n\u001b[1;32m      9\u001b[0m \u001b[0;34m\u001b[0m\u001b[0m\n",
      "\u001b[0;32m~/python-envs/env/lib/python3.6/site-packages/vision/torchvision/ops/__init__.py\u001b[0m in \u001b[0;36m<module>\u001b[0;34m\u001b[0m\n\u001b[1;32m     11\u001b[0m \u001b[0;32mfrom\u001b[0m \u001b[0;34m.\u001b[0m\u001b[0m_register_onnx_ops\u001b[0m \u001b[0;32mimport\u001b[0m \u001b[0m_register_custom_op\u001b[0m\u001b[0;34m\u001b[0m\u001b[0;34m\u001b[0m\u001b[0m\n\u001b[1;32m     12\u001b[0m \u001b[0;34m\u001b[0m\u001b[0m\n\u001b[0;32m---> 13\u001b[0;31m \u001b[0m_register_custom_op\u001b[0m\u001b[0;34m(\u001b[0m\u001b[0;34m)\u001b[0m\u001b[0;34m\u001b[0m\u001b[0;34m\u001b[0m\u001b[0m\n\u001b[0m\u001b[1;32m     14\u001b[0m \u001b[0;34m\u001b[0m\u001b[0m\n\u001b[1;32m     15\u001b[0m \u001b[0;34m\u001b[0m\u001b[0m\n",
      "\u001b[0;32m~/python-envs/env/lib/python3.6/site-packages/vision/torchvision/ops/_register_onnx_ops.py\u001b[0m in \u001b[0;36m_register_custom_op\u001b[0;34m()\u001b[0m\n\u001b[1;32m     47\u001b[0m     \u001b[0mregister_custom_op_symbolic\u001b[0m\u001b[0;34m(\u001b[0m\u001b[0;34m'torchvision::roi_align'\u001b[0m\u001b[0;34m,\u001b[0m \u001b[0mroi_align\u001b[0m\u001b[0;34m,\u001b[0m \u001b[0m_onnx_opset_version\u001b[0m\u001b[0;34m)\u001b[0m\u001b[0;34m\u001b[0m\u001b[0;34m\u001b[0m\u001b[0m\n\u001b[1;32m     48\u001b[0m     \u001b[0mregister_custom_op_symbolic\u001b[0m\u001b[0;34m(\u001b[0m\u001b[0;34m'torchvision::roi_pool'\u001b[0m\u001b[0;34m,\u001b[0m \u001b[0mroi_pool\u001b[0m\u001b[0;34m,\u001b[0m \u001b[0m_onnx_opset_version\u001b[0m\u001b[0;34m)\u001b[0m\u001b[0;34m\u001b[0m\u001b[0;34m\u001b[0m\u001b[0m\n\u001b[0;32m---> 49\u001b[0;31m     \u001b[0mregister_custom_op_symbolic\u001b[0m\u001b[0;34m(\u001b[0m\u001b[0;34m'torchvision::_new_empty_tensor_op'\u001b[0m\u001b[0;34m,\u001b[0m \u001b[0mnew_empty_tensor_op\u001b[0m\u001b[0;34m,\u001b[0m \u001b[0m_onnx_opset_version\u001b[0m\u001b[0;34m)\u001b[0m\u001b[0;34m\u001b[0m\u001b[0;34m\u001b[0m\u001b[0m\n\u001b[0m",
      "\u001b[0;32m/usr/local/lib/python3.6/dist-packages/torch/onnx/__init__.py\u001b[0m in \u001b[0;36mregister_custom_op_symbolic\u001b[0;34m(symbolic_name, symbolic_fn, opset_version)\u001b[0m\n\u001b[1;32m    193\u001b[0m \u001b[0;32mdef\u001b[0m \u001b[0mregister_custom_op_symbolic\u001b[0m\u001b[0;34m(\u001b[0m\u001b[0msymbolic_name\u001b[0m\u001b[0;34m,\u001b[0m \u001b[0msymbolic_fn\u001b[0m\u001b[0;34m,\u001b[0m \u001b[0mopset_version\u001b[0m\u001b[0;34m)\u001b[0m\u001b[0;34m:\u001b[0m\u001b[0;34m\u001b[0m\u001b[0;34m\u001b[0m\u001b[0m\n\u001b[1;32m    194\u001b[0m     \u001b[0;32mfrom\u001b[0m \u001b[0mtorch\u001b[0m\u001b[0;34m.\u001b[0m\u001b[0monnx\u001b[0m \u001b[0;32mimport\u001b[0m \u001b[0mutils\u001b[0m\u001b[0;34m\u001b[0m\u001b[0;34m\u001b[0m\u001b[0m\n\u001b[0;32m--> 195\u001b[0;31m     \u001b[0;32mreturn\u001b[0m \u001b[0mutils\u001b[0m\u001b[0;34m.\u001b[0m\u001b[0mregister_custom_op_symbolic\u001b[0m\u001b[0;34m(\u001b[0m\u001b[0msymbolic_name\u001b[0m\u001b[0;34m,\u001b[0m \u001b[0msymbolic_fn\u001b[0m\u001b[0;34m,\u001b[0m \u001b[0mopset_version\u001b[0m\u001b[0;34m)\u001b[0m\u001b[0;34m\u001b[0m\u001b[0;34m\u001b[0m\u001b[0m\n\u001b[0m",
      "\u001b[0;32m/usr/local/lib/python3.6/dist-packages/torch/onnx/utils.py\u001b[0m in \u001b[0;36mregister_custom_op_symbolic\u001b[0;34m(symbolic_name, symbolic_fn, opset_version)\u001b[0m\n\u001b[1;32m    738\u001b[0m                            \u001b[0;32mand\u001b[0m \u001b[0msould\u001b[0m \u001b[0mstart\u001b[0m \u001b[0;32mwith\u001b[0m \u001b[0ma\u001b[0m \u001b[0mletter\u001b[0m \u001b[0;32mand\u001b[0m \u001b[0mcontain\u001b[0m \u001b[0monly\u001b[0m\u001b[0;31m \u001b[0m\u001b[0;31m\\\u001b[0m\u001b[0;34m\u001b[0m\u001b[0;34m\u001b[0m\u001b[0m\n\u001b[1;32m    739\u001b[0m                            \u001b[0malphanumerical\u001b[0m \u001b[0mcharacters\u001b[0m\u001b[0;31m\"\u001b[0m\u001b[0;34m\u001b[0m\u001b[0;34m\u001b[0m\u001b[0m\n\u001b[0;32m--> 740\u001b[0;31m                            .format(symbolic_name))\n\u001b[0m\u001b[1;32m    741\u001b[0m     \u001b[0mns\u001b[0m\u001b[0;34m,\u001b[0m \u001b[0mop_name\u001b[0m \u001b[0;34m=\u001b[0m \u001b[0msymbolic_name\u001b[0m\u001b[0;34m.\u001b[0m\u001b[0msplit\u001b[0m\u001b[0;34m(\u001b[0m\u001b[0;34m'::'\u001b[0m\u001b[0;34m)\u001b[0m\u001b[0;34m\u001b[0m\u001b[0;34m\u001b[0m\u001b[0m\n\u001b[1;32m    742\u001b[0m     \u001b[0munaccepted_domain_names\u001b[0m \u001b[0;34m=\u001b[0m \u001b[0;34m[\u001b[0m\u001b[0;34m\"onnx\"\u001b[0m\u001b[0;34m,\u001b[0m \u001b[0;34m\"aten\"\u001b[0m\u001b[0;34m,\u001b[0m \u001b[0;34m\"prim\"\u001b[0m\u001b[0;34m]\u001b[0m\u001b[0;34m\u001b[0m\u001b[0;34m\u001b[0m\u001b[0m\n",
      "\u001b[0;31mRuntimeError\u001b[0m: Failed to register operator torchvision::_new_empty_tensor_op.                            The symbolic name must match the format Domain::Name,                            and sould start with a letter and contain only                            alphanumerical characters"
     ]
    }
   ],
   "source": [
    "# %cd /content/yolov3\n",
    "!git pull\n",
    "import time\n",
    "import glob\n",
    "import torch\n",
    "import os\n",
    "\n",
    "import argparse\n",
    "from sys import platform\n",
    "\n",
    "from models import *\n",
    "from utils.datasets import *\n",
    "from utils.utils import *\n",
    "from sort.sort import *\n",
    "\n",
    "from IPython.display import HTML\n",
    "from base64 import b64encode\n",
    "from pprint import pprint\n",
    "\n",
    "parser = argparse.ArgumentParser()\n",
    "parser.add_argument('--cfg', type=str, default='cfg/yolov3-spp.cfg', help='*.cfg path')\n",
    "parser.add_argument('--names', type=str, default='data/coco.names', help='*.names path')\n",
    "parser.add_argument('--weights', type=str, default='weights/yolov3-spp-ultralytics.pt', help='weights path')\n",
    "\n",
    "parser.add_argument('--img-size', type=int, default=160, help='inference size (pixels)')\n",
    "parser.add_argument('--conf-thres', type=float, default=0.3, help='object confidence threshold')\n",
    "parser.add_argument('--iou-thres', type=float, default=0.6, help='IOU threshold for NMS')\n",
    "\n",
    "\n",
    "parser.add_argument('--device', default='', help='device id (i.e. 0 or 0,1) or cpu')\n",
    "\n",
    "\n",
    "parser.add_argument('--classes', nargs='+', type=int, help='filter by class')\n",
    "parser.add_argument('--agnostic-nms', action='store_true', help='class-agnostic NMS')\n",
    "opt = parser.parse_args(args = [])\n",
    "\n",
    "torch.no_grad()\n",
    "\n",
    "weights = opt.weights\n",
    "img_size =  opt.img_size\n",
    "\n",
    "# Initialize\n",
    "device = torch_utils.select_device(device='cpu' if ONNX_EXPORT else opt.device)\n",
    "\n",
    "# Initialize model\n",
    "model = Darknet(opt.cfg, img_size)\n",
    "\n",
    "# Load weights\n",
    "attempt_download(weights)\n",
    "if weights.endswith('.pt'):  # pytorch format\n",
    "    model.load_state_dict(torch.load(weights, map_location=device)['model'])\n",
    "else:  # darknet format\n",
    "    load_darknet_weights(model, weights)\n",
    "\n",
    "model.to(device).eval();\n",
    "\n",
    "# Get names and colors\n",
    "names = load_classes(opt.names)\n",
    "colors = [[random.randint(0, 255) for _ in range(3)] for _ in range(len(names))]\n"
   ]
  },
  {
   "cell_type": "code",
   "execution_count": null,
   "metadata": {
    "colab": {},
    "colab_type": "code",
    "id": "kojkXHYAL1Kf"
   },
   "outputs": [],
   "source": [
    "def predict_one_video(path_video, output_dir = 'output'): \n",
    "\n",
    "    mot_tracker = Sort(max_age=3, min_hits=2)\n",
    "    if not os.path.exists(output_dir):\n",
    "        os.makedirs(output_dir)\n",
    "\n",
    "    cap  = cv2.VideoCapture(path_video)\n",
    "    _, img0 = cap.read()\n",
    "    # skip 40 frames\n",
    "    for x in range(40):\n",
    "      _, img0 = cap.read()\n",
    "\n",
    "    save_path = os.path.join(output_dir, os.path.split(path_video)[-1]) \n",
    "    if os.path.exists(save_path):\n",
    "      os.remove(save_path)\n",
    "    fps = cap.get(cv2.CAP_PROP_FPS)\n",
    "    w = int(cap.get(cv2.CAP_PROP_FRAME_WIDTH))\n",
    "    h = int(cap.get(cv2.CAP_PROP_FRAME_HEIGHT))\n",
    "    w_out = 1080\n",
    "    h_out = 540\n",
    "    \n",
    "    vid_writer = cv2.VideoWriter(save_path, cv2.VideoWriter_fourcc(*'MP4V'), fps, (w_out, h_out))\n",
    "    speeders={}\n",
    "    img_count = 0\n",
    "    while img0 is not None: \n",
    "        img_count += 1\n",
    "        # crop\n",
    "        img_cropped = img0[180:180 + h_out, 1920:1920 + w_out]\n",
    "        # Padded resize\n",
    "        img = letterbox(img_cropped, new_shape=opt.img_size)[0]\n",
    "\n",
    "        # Convert\n",
    "        img = img[:, :, ::-1].transpose(2, 0, 1)  # BGR to RGB, to 3xHxW\n",
    "        img = np.ascontiguousarray(img)\n",
    "\n",
    "        img = torch.from_numpy(img).to(device)\n",
    "        img = img.float()  # uint8 to fp16/32\n",
    "        img /= 255.0  # 0 - 255 to 0.0 - 1.0\n",
    "        if img.ndimension() == 3:\n",
    "            img = img.unsqueeze(0)\n",
    "\n",
    "        pred = model(img)[0]\n",
    "        # Apply NMS\n",
    "        pred = non_max_suppression(pred, opt.conf_thres, opt.iou_thres, classes=opt.classes, agnostic=opt.agnostic_nms)\n",
    "        # Process detections\n",
    "        for i, det in enumerate(pred):  # detections per image\n",
    "            ##### Ganti im0s menjadi img0\n",
    "\n",
    "            # update SORT\n",
    "            if det is not None:\n",
    "              # print('Frame %i, index %i, detections %i' % (img_count, i, len(det)) )\n",
    "              track_bbs_ids = torch.from_numpy(mot_tracker.update(det.cpu().detach().numpy()))\n",
    "              # print('Frame %i, found trackers %i of %i' % (img_count, len(track_bbs_ids), len(mot_tracker.trackers)) )\n",
    "\n",
    "              if track_bbs_ids is not None and len(track_bbs_ids):\n",
    "                  # Rescale boxes from img_size to im0 size\n",
    "                  track_bbs_ids[:, :4] = scale_coords(img.shape[2:], track_bbs_ids[:, :4], img_cropped.shape).round()\n",
    "\n",
    "                  # Write results\n",
    "                  count = 0\n",
    "                  for *xyxy, track_id, cls in track_bbs_ids:\n",
    "                      name = names[int(cls)]\n",
    "                      color = colors[count]\n",
    "                      trk = next(i for i in mot_tracker.trackers if i.id == track_id)\n",
    "                      if not name in ['car','bicycle','motorcycle','truck','bus','person']:\n",
    "                        continue\n",
    "                      real_speed = img_cropped.shape[0] / img.shape[2:][0] * trk.speed / 1.532 # 25 mph\n",
    "                      \n",
    "                      print(\"Frame %i, %s %i, speed %.2fmph, age %i\" % \n",
    "                            (img_count, name, track_id, real_speed, trk.age)\n",
    "                      )\n",
    "                      label = '%s %i %.1f mph' % (name, track_id, real_speed)\n",
    "                      plot_one_box(xyxy, img_cropped, label=label, color=color)\n",
    "                      key = '%s-%i' % (name,track_id)\n",
    "                      if not key in speeders:\n",
    "                        speeders[key] = [trk,trk.speed,img_cropped]\n",
    "                      elif speeders[key][1] < trk.speed:\n",
    "                        speeders[key] = [trk,trk.speed,img_cropped]\n",
    "            else:\n",
    "              # print('Frame %i, index %i, detections None' % (img_count, i) )\n",
    "              mot_tracker.update()\n",
    "\n",
    "        vid_writer.write(img_cropped)\n",
    "        # cv.imwrite(\"%s/output-%i.jpg\" % (output_dir, count) , img)\n",
    "        _, img0 = cap.read()\n",
    "\n",
    "    vid_writer.release()\n",
    "    for key in speeders:\n",
    "      trk,speed,img_cropped = speeders[key]\n",
    "      o = os.path.join(output_dir, \"%s.jpg\" % key) \n",
    "      if not cv2.imwrite(o, img_cropped):\n",
    "        raise Exception(\"Could not write image %s\" % o)\n",
    "\n",
    "    return save_path\n"
   ]
  },
  {
   "cell_type": "markdown",
   "metadata": {
    "colab_type": "text",
    "id": "NekDq0GwhmE4"
   },
   "source": [
    "# Process Video"
   ]
  },
  {
   "cell_type": "code",
   "execution_count": null,
   "metadata": {
    "colab": {},
    "colab_type": "code",
    "id": "47aetUx1Mm4I"
   },
   "outputs": [],
   "source": [
    "%cd /content/\n",
    "input_file = os.listdir(\"input_video\")[0]\n",
    "path_video = os.path.join(\"input_video\",input_file)\n",
    "print(\"Processing %s\" % path_video)\n",
    "for filename in os.listdir('output'):\n",
    "  f = os.path.join('output', filename)\n",
    "  if os.path.isfile(f):\n",
    "    os.unlink(f)\n",
    "save_path = predict_one_video(path_video)\n",
    "\n",
    "# compress video\n",
    "compressed_path = os.path.join(\"output_compressed\", os.path.split(save_path)[-1])\n",
    "print(\"Compressing %s to %s\" % (save_path,compressed_path))\n",
    "if os.path.exists(compressed_path):\n",
    "  os.remove(compressed_path)\n",
    "os.system(f\"ffmpeg -i {save_path} -vcodec libx264 {compressed_path}\")\n",
    "\n",
    "# Show video\n",
    "mp4 = open(compressed_path,'rb').read()\n",
    "data_url = \"data:video/mp4;base64,\" + b64encode(mp4).decode()\n",
    "HTML(\"\"\"\n",
    "<video width=400 controls>\n",
    "      <source src=\"%s\" type=\"video/mp4\">\n",
    "</video>\n",
    "\"\"\" % data_url)"
   ]
  },
  {
   "cell_type": "markdown",
   "metadata": {
    "colab_type": "text",
    "id": "tLtgpkxyQUQ0"
   },
   "source": [
    "To Process your own video, upload your video inside `input_video` folder "
   ]
  },
  {
   "cell_type": "markdown",
   "metadata": {
    "colab_type": "text",
    "id": "w5SbLvzLU3i_"
   },
   "source": [
    "# Git clone to get short videos"
   ]
  },
  {
   "cell_type": "code",
   "execution_count": null,
   "metadata": {
    "colab": {},
    "colab_type": "code",
    "id": "1LEWy4FDUtXp"
   },
   "outputs": [],
   "source": [
    "!git clone https://github.com/vindruid/yolov3-in-colab.git\n",
    "!cp -r \"yolov3-in-colab\"/input_video/* ./input_video/"
   ]
  }
 ],
 "metadata": {
  "accelerator": "GPU",
  "colab": {
   "collapsed_sections": [],
   "include_colab_link": true,
   "machine_shape": "hm",
   "name": "yolov3 video.ipynb",
   "private_outputs": true,
   "provenance": [],
   "toc_visible": true
  },
  "kernelspec": {
   "display_name": "Python 3",
   "language": "python",
   "name": "python3"
  },
  "language_info": {
   "codemirror_mode": {
    "name": "ipython",
    "version": 3
   },
   "file_extension": ".py",
   "mimetype": "text/x-python",
   "name": "python",
   "nbconvert_exporter": "python",
   "pygments_lexer": "ipython3",
   "version": "3.6.9"
  }
 },
 "nbformat": 4,
 "nbformat_minor": 4
}
